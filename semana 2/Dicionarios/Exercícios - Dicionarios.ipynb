{
 "cells": [
  {
   "cell_type": "markdown",
   "metadata": {},
   "source": [
    "## Dicionários"
   ]
  },
  {
   "cell_type": "markdown",
   "metadata": {},
   "source": [
    "\n",
    "Seguem as respostas sugeridas (geralmente existem várias maneiras de resolver um problema em Python)."
   ]
  },
  {
   "cell_type": "markdown",
   "metadata": {},
   "source": [
    "\n",
    "Este é o menu de um restaurante próximo:"
   ]
  },
  {
   "cell_type": "code",
   "execution_count": 1,
   "metadata": {},
   "outputs": [],
   "source": [
    "Cardapio = {'prato_1':'macarrão', 'prato_2':'salada', 'prato_3':'Hamburger', 'prato_4':'peixe'}"
   ]
  },
  {
   "cell_type": "markdown",
   "metadata": {},
   "source": [
    "\n",
    "Qual é a segunda refeição da lista?"
   ]
  },
  {
   "cell_type": "code",
   "execution_count": 4,
   "metadata": {},
   "outputs": [
    {
     "data": {
      "text/plain": [
       "'salada'"
      ]
     },
     "execution_count": 4,
     "metadata": {},
     "output_type": "execute_result"
    }
   ],
   "source": [
    "Cardapio['prato_2']"
   ]
  },
  {
   "cell_type": "markdown",
   "metadata": {},
   "source": [
    "ou:"
   ]
  },
  {
   "cell_type": "code",
   "execution_count": 5,
   "metadata": {},
   "outputs": [
    {
     "name": "stdout",
     "output_type": "stream",
     "text": [
      "salada\n"
     ]
    }
   ],
   "source": [
    "print (Cardapio['prato_2'])"
   ]
  },
  {
   "cell_type": "markdown",
   "metadata": {},
   "source": [
    "\n",
    "Adicione uma nova refeição - \"frango\"."
   ]
  },
  {
   "cell_type": "code",
   "execution_count": 6,
   "metadata": {},
   "outputs": [
    {
     "data": {
      "text/plain": [
       "{'prato_1': 'macarrão',\n",
       " 'prato_2': 'salada',\n",
       " 'prato_3': 'Hamburger',\n",
       " 'prato_4': 'peixe',\n",
       " 'prato_5': 'frango'}"
      ]
     },
     "execution_count": 6,
     "metadata": {},
     "output_type": "execute_result"
    }
   ],
   "source": [
    "Cardapio['prato_5'] = \"frango\"\n",
    "Cardapio"
   ]
  },
  {
   "cell_type": "markdown",
   "metadata": {},
   "source": [
    "Substitua o hambúrguer por um omelete."
   ]
  },
  {
   "cell_type": "code",
   "execution_count": 8,
   "metadata": {},
   "outputs": [
    {
     "data": {
      "text/plain": [
       "{'prato_1': 'macarrão',\n",
       " 'prato_2': 'salada',\n",
       " 'prato_3': 'omelete',\n",
       " 'prato_4': 'peixe',\n",
       " 'prato_5': 'frango'}"
      ]
     },
     "execution_count": 8,
     "metadata": {},
     "output_type": "execute_result"
    }
   ],
   "source": [
    "Cardapio['prato_3'] = 'omelete'\n",
    "Cardapio"
   ]
  },
  {
   "cell_type": "markdown",
   "metadata": {},
   "source": [
    "\n",
    "Anexe a lista de sobremesas na forma de uma sexta refeição."
   ]
  },
  {
   "cell_type": "code",
   "execution_count": 10,
   "metadata": {},
   "outputs": [],
   "source": [
    "sobremesas = ['Bolo', 'Sorvete', 'chocolate']"
   ]
  },
  {
   "cell_type": "code",
   "execution_count": 1,
   "metadata": {},
   "outputs": [
    {
     "ename": "NameError",
     "evalue": "name 'sobremesas' is not defined",
     "output_type": "error",
     "traceback": [
      "\u001b[1;31m---------------------------------------------------------------------------\u001b[0m",
      "\u001b[1;31mNameError\u001b[0m                                 Traceback (most recent call last)",
      "Cell \u001b[1;32mIn[1], line 1\u001b[0m\n\u001b[1;32m----> 1\u001b[0m Cardapio[\u001b[38;5;124m'\u001b[39m\u001b[38;5;124mprato_6\u001b[39m\u001b[38;5;124m'\u001b[39m] \u001b[38;5;241m=\u001b[39m \u001b[43msobremesas\u001b[49m\n\u001b[0;32m      2\u001b[0m Cardapio\n",
      "\u001b[1;31mNameError\u001b[0m: name 'sobremesas' is not defined"
     ]
    }
   ],
   "source": [
    "Cardapio['prato_6'] = sobremesas\n",
    "Cardapio"
   ]
  },
  {
   "cell_type": "markdown",
   "metadata": {},
   "source": [
    "Crie um novo dicionário que contenha as cinco primeiras refeições como chaves e atribua os seguintes cinco valores como preços (em reais):\n",
    "10, 5, 8, 12, 5.\n",
    "Comece por *lista_de_preço = {}*."
   ]
  },
  {
   "cell_type": "code",
   "execution_count": 15,
   "metadata": {},
   "outputs": [
    {
     "data": {
      "text/plain": [
       "{'macarrão': 10, 'salada': 5, 'omelete': 8, 'peixe': 12, 'frango': 5}"
      ]
     },
     "execution_count": 15,
     "metadata": {},
     "output_type": "execute_result"
    }
   ],
   "source": [
    "lista_de_preço = {}\n",
    "lista_de_preço['macarrão'] = 10\n",
    "lista_de_preço['salada'] = 5\n",
    "lista_de_preço['omelete'] = 8\n",
    "lista_de_preço['peixe'] = 12\n",
    "lista_de_preço['frango'] = 5\n",
    "lista_de_preço"
   ]
  },
  {
   "cell_type": "markdown",
   "metadata": {},
   "source": [
    "ou:"
   ]
  },
  {
   "cell_type": "code",
   "execution_count": 16,
   "metadata": {},
   "outputs": [
    {
     "data": {
      "text/plain": [
       "{'macarrão': 10, 'salada': 5, 'omelete': 8, 'peixe': 12, 'frango': 5}"
      ]
     },
     "execution_count": 16,
     "metadata": {},
     "output_type": "execute_result"
    }
   ],
   "source": [
    "lista_de_preço = {}\n",
    "lista_de_preço[Menu['prato_1']] = 10\n",
    "lista_de_preço[Menu['prato_2']] = 5\n",
    "lista_de_preço[Menu['prato_3']] = 8\n",
    "lista_de_preço[Menu['prato_4']] = 12\n",
    "lista_de_preço[Menu['prato_5']] = 5\n",
    "lista_de_preço"
   ]
  },
  {
   "cell_type": "markdown",
   "metadata": {},
   "source": [
    "\n",
    "Use o método .get () para verificar o preço do omelete."
   ]
  },
  {
   "cell_type": "code",
   "execution_count": 17,
   "metadata": {
    "scrolled": true
   },
   "outputs": [
    {
     "data": {
      "text/plain": [
       "8"
      ]
     },
     "execution_count": 17,
     "metadata": {},
     "output_type": "execute_result"
    }
   ],
   "source": [
    "lista_de_preço.get('omelete')"
   ]
  },
  {
   "cell_type": "markdown",
   "metadata": {},
   "source": [
    "ou:"
   ]
  },
  {
   "cell_type": "code",
   "execution_count": 18,
   "metadata": {},
   "outputs": [
    {
     "data": {
      "text/plain": [
       "8"
      ]
     },
     "execution_count": 18,
     "metadata": {},
     "output_type": "execute_result"
    }
   ],
   "source": [
    "lista_de_preço.get(Menu['prato_3'])"
   ]
  }
 ],
 "metadata": {
  "anaconda-cloud": {},
  "kernelspec": {
   "display_name": "Python 3.9.7 64-bit",
   "language": "python",
   "name": "python3"
  },
  "language_info": {
   "codemirror_mode": {
    "name": "ipython",
    "version": 3
   },
   "file_extension": ".py",
   "mimetype": "text/x-python",
   "name": "python",
   "nbconvert_exporter": "python",
   "pygments_lexer": "ipython3",
   "version": "3.9.7"
  },
  "vscode": {
   "interpreter": {
    "hash": "28f306ecacedaf8cf559f0032bafb2bb8318af3b9a7f7adef07b9407ac5f59e8"
   }
  }
 },
 "nbformat": 4,
 "nbformat_minor": 1
}
