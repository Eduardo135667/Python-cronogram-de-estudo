{
 "cells": [
  {
   "cell_type": "markdown",
   "metadata": {},
   "source": [
    "Passo 1: Importar a Biblioteca no prompt da anaconda: pip install yfinance\n",
    "\n",
    "Passo 2: Importar a Biblioteca yfinance no jupyter notebook"
   ]
  },
  {
   "cell_type": "code",
   "execution_count": 3,
   "metadata": {},
   "outputs": [],
   "source": [
    "import numpy as np\n",
    "import pandas as pd\n",
    "import yfinance as yf\n",
    "from pandas_datareader import data as wb"
   ]
  },
  {
   "cell_type": "code",
   "execution_count": 4,
   "metadata": {},
   "outputs": [
    {
     "name": "stdout",
     "output_type": "stream",
     "text": [
      "[*********************100%***********************]  1 of 1 completed\n"
     ]
    }
   ],
   "source": [
    "yf.pdr_override()\n",
    "\n",
    "PETR4 = wb.get_data_yahoo(\"PETR4.SA\", start='2010-01-01')"
   ]
  },
  {
   "cell_type": "code",
   "execution_count": 5,
   "metadata": {},
   "outputs": [],
   "source": [
    "from pandas_datareader import data as wb"
   ]
  },
  {
   "cell_type": "code",
   "execution_count": 7,
   "metadata": {},
   "outputs": [
    {
     "data": {
      "text/html": [
       "<div>\n",
       "<style scoped>\n",
       "    .dataframe tbody tr th:only-of-type {\n",
       "        vertical-align: middle;\n",
       "    }\n",
       "\n",
       "    .dataframe tbody tr th {\n",
       "        vertical-align: top;\n",
       "    }\n",
       "\n",
       "    .dataframe thead th {\n",
       "        text-align: right;\n",
       "    }\n",
       "</style>\n",
       "<table border=\"1\" class=\"dataframe\">\n",
       "  <thead>\n",
       "    <tr style=\"text-align: right;\">\n",
       "      <th></th>\n",
       "      <th>Open</th>\n",
       "      <th>High</th>\n",
       "      <th>Low</th>\n",
       "      <th>Close</th>\n",
       "      <th>Adj Close</th>\n",
       "      <th>Volume</th>\n",
       "    </tr>\n",
       "    <tr>\n",
       "      <th>Date</th>\n",
       "      <th></th>\n",
       "      <th></th>\n",
       "      <th></th>\n",
       "      <th></th>\n",
       "      <th></th>\n",
       "      <th></th>\n",
       "    </tr>\n",
       "  </thead>\n",
       "  <tbody>\n",
       "    <tr>\n",
       "      <th>2010-01-04</th>\n",
       "      <td>36.950001</td>\n",
       "      <td>37.320000</td>\n",
       "      <td>36.820000</td>\n",
       "      <td>37.320000</td>\n",
       "      <td>11.541965</td>\n",
       "      <td>13303600</td>\n",
       "    </tr>\n",
       "    <tr>\n",
       "      <th>2010-01-05</th>\n",
       "      <td>37.380001</td>\n",
       "      <td>37.430000</td>\n",
       "      <td>36.799999</td>\n",
       "      <td>37.000000</td>\n",
       "      <td>11.442999</td>\n",
       "      <td>21396400</td>\n",
       "    </tr>\n",
       "    <tr>\n",
       "      <th>2010-01-06</th>\n",
       "      <td>36.799999</td>\n",
       "      <td>37.500000</td>\n",
       "      <td>36.799999</td>\n",
       "      <td>37.500000</td>\n",
       "      <td>11.597635</td>\n",
       "      <td>18720600</td>\n",
       "    </tr>\n",
       "    <tr>\n",
       "      <th>2010-01-07</th>\n",
       "      <td>37.270000</td>\n",
       "      <td>37.450001</td>\n",
       "      <td>37.070000</td>\n",
       "      <td>37.150002</td>\n",
       "      <td>11.489390</td>\n",
       "      <td>10964600</td>\n",
       "    </tr>\n",
       "    <tr>\n",
       "      <th>2010-01-08</th>\n",
       "      <td>37.160000</td>\n",
       "      <td>37.389999</td>\n",
       "      <td>36.860001</td>\n",
       "      <td>36.950001</td>\n",
       "      <td>11.427538</td>\n",
       "      <td>14624200</td>\n",
       "    </tr>\n",
       "    <tr>\n",
       "      <th>...</th>\n",
       "      <td>...</td>\n",
       "      <td>...</td>\n",
       "      <td>...</td>\n",
       "      <td>...</td>\n",
       "      <td>...</td>\n",
       "      <td>...</td>\n",
       "    </tr>\n",
       "    <tr>\n",
       "      <th>2023-07-03</th>\n",
       "      <td>29.719999</td>\n",
       "      <td>30.180000</td>\n",
       "      <td>29.719999</td>\n",
       "      <td>30.080000</td>\n",
       "      <td>30.080000</td>\n",
       "      <td>31266900</td>\n",
       "    </tr>\n",
       "    <tr>\n",
       "      <th>2023-07-04</th>\n",
       "      <td>29.959999</td>\n",
       "      <td>30.389999</td>\n",
       "      <td>29.959999</td>\n",
       "      <td>30.150000</td>\n",
       "      <td>30.150000</td>\n",
       "      <td>18308000</td>\n",
       "    </tr>\n",
       "    <tr>\n",
       "      <th>2023-07-05</th>\n",
       "      <td>30.160000</td>\n",
       "      <td>30.549999</td>\n",
       "      <td>29.660000</td>\n",
       "      <td>30.110001</td>\n",
       "      <td>30.110001</td>\n",
       "      <td>53585500</td>\n",
       "    </tr>\n",
       "    <tr>\n",
       "      <th>2023-07-06</th>\n",
       "      <td>29.850000</td>\n",
       "      <td>30.000000</td>\n",
       "      <td>29.150000</td>\n",
       "      <td>29.650000</td>\n",
       "      <td>29.650000</td>\n",
       "      <td>47685700</td>\n",
       "    </tr>\n",
       "    <tr>\n",
       "      <th>2023-07-07</th>\n",
       "      <td>29.760000</td>\n",
       "      <td>30.200001</td>\n",
       "      <td>29.360001</td>\n",
       "      <td>29.500000</td>\n",
       "      <td>29.500000</td>\n",
       "      <td>55533500</td>\n",
       "    </tr>\n",
       "  </tbody>\n",
       "</table>\n",
       "<p>3354 rows × 6 columns</p>\n",
       "</div>"
      ],
      "text/plain": [
       "                 Open       High        Low      Close  Adj Close    Volume\n",
       "Date                                                                       \n",
       "2010-01-04  36.950001  37.320000  36.820000  37.320000  11.541965  13303600\n",
       "2010-01-05  37.380001  37.430000  36.799999  37.000000  11.442999  21396400\n",
       "2010-01-06  36.799999  37.500000  36.799999  37.500000  11.597635  18720600\n",
       "2010-01-07  37.270000  37.450001  37.070000  37.150002  11.489390  10964600\n",
       "2010-01-08  37.160000  37.389999  36.860001  36.950001  11.427538  14624200\n",
       "...               ...        ...        ...        ...        ...       ...\n",
       "2023-07-03  29.719999  30.180000  29.719999  30.080000  30.080000  31266900\n",
       "2023-07-04  29.959999  30.389999  29.959999  30.150000  30.150000  18308000\n",
       "2023-07-05  30.160000  30.549999  29.660000  30.110001  30.110001  53585500\n",
       "2023-07-06  29.850000  30.000000  29.150000  29.650000  29.650000  47685700\n",
       "2023-07-07  29.760000  30.200001  29.360001  29.500000  29.500000  55533500\n",
       "\n",
       "[3354 rows x 6 columns]"
      ]
     },
     "execution_count": 7,
     "metadata": {},
     "output_type": "execute_result"
    }
   ],
   "source": [
    "PETR4"
   ]
  },
  {
   "cell_type": "code",
   "execution_count": 8,
   "metadata": {},
   "outputs": [
    {
     "data": {
      "text/html": [
       "<div>\n",
       "<style scoped>\n",
       "    .dataframe tbody tr th:only-of-type {\n",
       "        vertical-align: middle;\n",
       "    }\n",
       "\n",
       "    .dataframe tbody tr th {\n",
       "        vertical-align: top;\n",
       "    }\n",
       "\n",
       "    .dataframe thead th {\n",
       "        text-align: right;\n",
       "    }\n",
       "</style>\n",
       "<table border=\"1\" class=\"dataframe\">\n",
       "  <thead>\n",
       "    <tr style=\"text-align: right;\">\n",
       "      <th></th>\n",
       "      <th>Open</th>\n",
       "      <th>High</th>\n",
       "      <th>Low</th>\n",
       "      <th>Close</th>\n",
       "      <th>Adj Close</th>\n",
       "      <th>Volume</th>\n",
       "    </tr>\n",
       "    <tr>\n",
       "      <th>Date</th>\n",
       "      <th></th>\n",
       "      <th></th>\n",
       "      <th></th>\n",
       "      <th></th>\n",
       "      <th></th>\n",
       "      <th></th>\n",
       "    </tr>\n",
       "  </thead>\n",
       "  <tbody>\n",
       "    <tr>\n",
       "      <th>2010-01-04</th>\n",
       "      <td>36.950001</td>\n",
       "      <td>37.320000</td>\n",
       "      <td>36.820000</td>\n",
       "      <td>37.320000</td>\n",
       "      <td>11.541965</td>\n",
       "      <td>13303600</td>\n",
       "    </tr>\n",
       "    <tr>\n",
       "      <th>2010-01-05</th>\n",
       "      <td>37.380001</td>\n",
       "      <td>37.430000</td>\n",
       "      <td>36.799999</td>\n",
       "      <td>37.000000</td>\n",
       "      <td>11.442999</td>\n",
       "      <td>21396400</td>\n",
       "    </tr>\n",
       "    <tr>\n",
       "      <th>2010-01-06</th>\n",
       "      <td>36.799999</td>\n",
       "      <td>37.500000</td>\n",
       "      <td>36.799999</td>\n",
       "      <td>37.500000</td>\n",
       "      <td>11.597635</td>\n",
       "      <td>18720600</td>\n",
       "    </tr>\n",
       "    <tr>\n",
       "      <th>2010-01-07</th>\n",
       "      <td>37.270000</td>\n",
       "      <td>37.450001</td>\n",
       "      <td>37.070000</td>\n",
       "      <td>37.150002</td>\n",
       "      <td>11.489390</td>\n",
       "      <td>10964600</td>\n",
       "    </tr>\n",
       "    <tr>\n",
       "      <th>2010-01-08</th>\n",
       "      <td>37.160000</td>\n",
       "      <td>37.389999</td>\n",
       "      <td>36.860001</td>\n",
       "      <td>36.950001</td>\n",
       "      <td>11.427538</td>\n",
       "      <td>14624200</td>\n",
       "    </tr>\n",
       "  </tbody>\n",
       "</table>\n",
       "</div>"
      ],
      "text/plain": [
       "                 Open       High        Low      Close  Adj Close    Volume\n",
       "Date                                                                       \n",
       "2010-01-04  36.950001  37.320000  36.820000  37.320000  11.541965  13303600\n",
       "2010-01-05  37.380001  37.430000  36.799999  37.000000  11.442999  21396400\n",
       "2010-01-06  36.799999  37.500000  36.799999  37.500000  11.597635  18720600\n",
       "2010-01-07  37.270000  37.450001  37.070000  37.150002  11.489390  10964600\n",
       "2010-01-08  37.160000  37.389999  36.860001  36.950001  11.427538  14624200"
      ]
     },
     "execution_count": 8,
     "metadata": {},
     "output_type": "execute_result"
    }
   ],
   "source": [
    "PETR4.head()"
   ]
  },
  {
   "cell_type": "code",
   "execution_count": 9,
   "metadata": {},
   "outputs": [
    {
     "name": "stdout",
     "output_type": "stream",
     "text": [
      "<class 'pandas.core.frame.DataFrame'>\n",
      "DatetimeIndex: 3354 entries, 2010-01-04 to 2023-07-07\n",
      "Data columns (total 6 columns):\n",
      " #   Column     Non-Null Count  Dtype  \n",
      "---  ------     --------------  -----  \n",
      " 0   Open       3354 non-null   float64\n",
      " 1   High       3354 non-null   float64\n",
      " 2   Low        3354 non-null   float64\n",
      " 3   Close      3354 non-null   float64\n",
      " 4   Adj Close  3354 non-null   float64\n",
      " 5   Volume     3354 non-null   int64  \n",
      "dtypes: float64(5), int64(1)\n",
      "memory usage: 183.4 KB\n"
     ]
    }
   ],
   "source": [
    "PETR4.info()"
   ]
  },
  {
   "cell_type": "code",
   "execution_count": 11,
   "metadata": {},
   "outputs": [
    {
     "ename": "TypeError",
     "evalue": "download() got an unexpected keyword argument 'data_source'",
     "output_type": "error",
     "traceback": [
      "\u001b[1;31m---------------------------------------------------------------------------\u001b[0m",
      "\u001b[1;31mTypeError\u001b[0m                                 Traceback (most recent call last)",
      "Cell \u001b[1;32mIn[11], line 4\u001b[0m\n\u001b[0;32m      2\u001b[0m novos_dados \u001b[38;5;241m=\u001b[39m pd\u001b[38;5;241m.\u001b[39mDataFrame()\n\u001b[0;32m      3\u001b[0m \u001b[38;5;28;01mfor\u001b[39;00m t \u001b[38;5;129;01min\u001b[39;00m tickers:\n\u001b[1;32m----> 4\u001b[0m     novos_dados[t] \u001b[38;5;241m=\u001b[39m \u001b[43mwb\u001b[49m\u001b[38;5;241;43m.\u001b[39;49m\u001b[43mDataReader\u001b[49m\u001b[43m(\u001b[49m\u001b[43mt\u001b[49m\u001b[43m,\u001b[49m\u001b[43m \u001b[49m\u001b[43mdata_source\u001b[49m\u001b[38;5;241;43m=\u001b[39;49m\u001b[38;5;124;43m'\u001b[39;49m\u001b[38;5;124;43myahoo\u001b[39;49m\u001b[38;5;124;43m'\u001b[39;49m\u001b[43m,\u001b[49m\u001b[43m \u001b[49m\u001b[43mstart\u001b[49m\u001b[43m \u001b[49m\u001b[38;5;241;43m=\u001b[39;49m\u001b[43m \u001b[49m\u001b[38;5;124;43m'\u001b[39;49m\u001b[38;5;124;43m2010-1-1\u001b[39;49m\u001b[38;5;124;43m'\u001b[39;49m\u001b[43m)\u001b[49m[\u001b[38;5;124m'\u001b[39m\u001b[38;5;124mAdj Close\u001b[39m\u001b[38;5;124m'\u001b[39m]\n",
      "File \u001b[1;32mc:\\Users\\el221\\AppData\\Local\\Programs\\Python\\Python39\\lib\\site-packages\\yfinance\\utils.py:105\u001b[0m, in \u001b[0;36mlog_indent_decorator.<locals>.wrapper\u001b[1;34m(*args, **kwargs)\u001b[0m\n\u001b[0;32m    102\u001b[0m logger\u001b[39m.\u001b[39mdebug(\u001b[39mf\u001b[39m\u001b[39m'\u001b[39m\u001b[39mEntering \u001b[39m\u001b[39m{\u001b[39;00mfunc\u001b[39m.\u001b[39m\u001b[39m__name__\u001b[39m\u001b[39m}\u001b[39;00m\u001b[39m()\u001b[39m\u001b[39m'\u001b[39m)\n\u001b[0;32m    104\u001b[0m \u001b[39mwith\u001b[39;00m IndentationContext():\n\u001b[1;32m--> 105\u001b[0m     result \u001b[39m=\u001b[39m func(\u001b[39m*\u001b[39margs, \u001b[39m*\u001b[39m\u001b[39m*\u001b[39mkwargs)\n\u001b[0;32m    107\u001b[0m logger\u001b[39m.\u001b[39mdebug(\u001b[39mf\u001b[39m\u001b[39m'\u001b[39m\u001b[39mExiting \u001b[39m\u001b[39m{\u001b[39;00mfunc\u001b[39m.\u001b[39m\u001b[39m__name__\u001b[39m\u001b[39m}\u001b[39;00m\u001b[39m()\u001b[39m\u001b[39m'\u001b[39m)\n\u001b[0;32m    108\u001b[0m \u001b[39mreturn\u001b[39;00m result\n",
      "\u001b[1;31mTypeError\u001b[0m: download() got an unexpected keyword argument 'data_source'"
     ]
    }
   ],
   "source": [
    "tickers = ['PETR4.SA', 'GGBRA.SA','MRVE3.SA','CVCB3.SA']\n",
    "novos_dados = pd.DataFrame()\n",
    "for t in tickers:\n",
    "    novos_dados[t] = wb.DataReader(t, data_source='yahoo', start = '2010-1-1')['Adj Close']"
   ]
  }
 ],
 "metadata": {
  "kernelspec": {
   "display_name": "Python 3.9.7 64-bit",
   "language": "python",
   "name": "python3"
  },
  "language_info": {
   "codemirror_mode": {
    "name": "ipython",
    "version": 3
   },
   "file_extension": ".py",
   "mimetype": "text/x-python",
   "name": "python",
   "nbconvert_exporter": "python",
   "pygments_lexer": "ipython3",
   "version": "3.9.7"
  },
  "orig_nbformat": 4,
  "vscode": {
   "interpreter": {
    "hash": "28f306ecacedaf8cf559f0032bafb2bb8318af3b9a7f7adef07b9407ac5f59e8"
   }
  }
 },
 "nbformat": 4,
 "nbformat_minor": 2
}
