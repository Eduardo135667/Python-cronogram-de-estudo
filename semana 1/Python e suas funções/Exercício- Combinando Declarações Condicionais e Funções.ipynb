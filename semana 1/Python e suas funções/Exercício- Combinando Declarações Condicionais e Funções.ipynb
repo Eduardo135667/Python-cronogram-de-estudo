{
 "cells": [
  {
   "cell_type": "markdown",
   "metadata": {},
   "source": [
    "## Combinando Declarações Condicionais e Funções"
   ]
  },
  {
   "cell_type": "markdown",
   "metadata": {},
   "source": [
    "\n",
    "Seguem as respostas sugeridas (geralmente existem várias maneiras de resolver um problema em Python)."
   ]
  },
  {
   "cell_type": "markdown",
   "metadata": {},
   "source": [
    "Defina uma função, chamada compare_as_duas (), com dois argumentos. Se o primeiro for maior que o segundo, deixe imprimir \"Maior\". Se o segundo for maior, deve imprimir \"Menos\". Deixe imprimir \"Igual\" se os dois valores forem o mesmo número."
   ]
  },
  {
   "cell_type": "markdown",
   "metadata": {},
   "source": [
    "def- é uma palavra reservada"
   ]
  },
  {
   "cell_type": "code",
   "execution_count": 5,
   "metadata": {},
   "outputs": [],
   "source": [
    "def aprendi():\n",
    "    print('Minha primeira função')"
   ]
  },
  {
   "cell_type": "code",
   "execution_count": 7,
   "metadata": {},
   "outputs": [
    {
     "name": "stdout",
     "output_type": "stream",
     "text": [
      "Minha primeira função\n"
     ]
    }
   ],
   "source": [
    "aprendi()"
   ]
  },
  {
   "cell_type": "code",
   "execution_count": 1,
   "metadata": {},
   "outputs": [],
   "source": [
    "def compare_as_duas(x,y):\n",
    "    if x > y:\n",
    "        print (\"Maior\")\n",
    "    elif x < y:\n",
    "        print (\"Menor\")\n",
    "    else:\n",
    "        print (\"Igual\")\n"
   ]
  },
  {
   "cell_type": "code",
   "execution_count": 3,
   "metadata": {},
   "outputs": [
    {
     "name": "stdout",
     "output_type": "stream",
     "text": [
      "Menor\n"
     ]
    }
   ],
   "source": [
    "compare_as_duas(5,21)"
   ]
  }
 ],
 "metadata": {
  "anaconda-cloud": {},
  "kernelspec": {
   "display_name": "Python 3.9.7 64-bit",
   "language": "python",
   "name": "python3"
  },
  "language_info": {
   "codemirror_mode": {
    "name": "ipython",
    "version": 3
   },
   "file_extension": ".py",
   "mimetype": "text/x-python",
   "name": "python",
   "nbconvert_exporter": "python",
   "pygments_lexer": "ipython3",
   "version": "3.9.7"
  },
  "vscode": {
   "interpreter": {
    "hash": "28f306ecacedaf8cf559f0032bafb2bb8318af3b9a7f7adef07b9407ac5f59e8"
   }
  }
 },
 "nbformat": 4,
 "nbformat_minor": 1
}
