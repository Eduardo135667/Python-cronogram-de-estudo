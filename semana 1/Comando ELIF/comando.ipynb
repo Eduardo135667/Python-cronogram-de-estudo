{
 "cells": [
  {
   "cell_type": "markdown",
   "metadata": {},
   "source": [
    "O computador sempre lê de cima para baixo! (ELIF é uma abreviação de ELSE if)"
   ]
  },
  {
   "cell_type": "code",
   "execution_count": 1,
   "metadata": {},
   "outputs": [],
   "source": [
    "def compare_com_oito(y):\n",
    "    if y > 8:\n",
    "        return 'Maior'\n",
    "    elif y < 8:\n",
    "        return 'Menor'\n",
    "    elif y < 0:\n",
    "        return 'Negativo'\n",
    "    else:\n",
    "        return 'Igual'"
   ]
  },
  {
   "cell_type": "code",
   "execution_count": 2,
   "metadata": {},
   "outputs": [
    {
     "name": "stdout",
     "output_type": "stream",
     "text": [
      "Maior\n"
     ]
    }
   ],
   "source": [
    "print(compare_com_oito(9))"
   ]
  },
  {
   "cell_type": "code",
   "execution_count": 3,
   "metadata": {},
   "outputs": [
    {
     "name": "stdout",
     "output_type": "stream",
     "text": [
      "Menor\n"
     ]
    }
   ],
   "source": [
    "print(compare_com_oito(2))"
   ]
  },
  {
   "cell_type": "code",
   "execution_count": 4,
   "metadata": {},
   "outputs": [
    {
     "name": "stdout",
     "output_type": "stream",
     "text": [
      "Menor\n"
     ]
    }
   ],
   "source": [
    "print(compare_com_oito(-12))\n",
    "# deveria dar 'negativo' mas como o computador lê de cima para baixo a primeira opção que era 'Menor'"
   ]
  },
  {
   "cell_type": "code",
   "execution_count": 5,
   "metadata": {},
   "outputs": [],
   "source": [
    "def compare_com_oito(y):\n",
    "    if y > 8:\n",
    "        return 'Maior'\n",
    "    elif y < 8:\n",
    "        return 'Negativo'\n",
    "    elif y < 0:\n",
    "        return 'Menor'\n",
    "    else:\n",
    "        return 'Igual'"
   ]
  },
  {
   "cell_type": "code",
   "execution_count": 6,
   "metadata": {},
   "outputs": [
    {
     "name": "stdout",
     "output_type": "stream",
     "text": [
      "Negativo\n"
     ]
    }
   ],
   "source": [
    "print(compare_com_oito(-12))\n",
    "# nessa resposta  como troquei a ordem de 'negativo' e 'Menor' e -12 atendia os dois, ele me deu o premeiro resultado!"
   ]
  }
 ],
 "metadata": {
  "kernelspec": {
   "display_name": "Python 3.9.7 64-bit",
   "language": "python",
   "name": "python3"
  },
  "language_info": {
   "codemirror_mode": {
    "name": "ipython",
    "version": 3
   },
   "file_extension": ".py",
   "mimetype": "text/x-python",
   "name": "python",
   "nbconvert_exporter": "python",
   "pygments_lexer": "ipython3",
   "version": "3.9.7"
  },
  "orig_nbformat": 4,
  "vscode": {
   "interpreter": {
    "hash": "28f306ecacedaf8cf559f0032bafb2bb8318af3b9a7f7adef07b9407ac5f59e8"
   }
  }
 },
 "nbformat": 4,
 "nbformat_minor": 2
}
